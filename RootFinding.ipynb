{
 "cells": [
  {
   "cell_type": "markdown",
   "metadata": {},
   "source": [
    "# Root finding with Bisection Method"
   ]
  },
  {
   "cell_type": "markdown",
   "metadata": {},
   "source": [
    "## The algorihm\n",
    "The method calls for a repeated halving (or bisecting) of subintervals of $[a, b]$ and, at each step, locating\n",
    "the half containing $r$, where $r$ is the root of the function.\n",
    "To begin, set $a_1 = a$ and $b_1 =b$ and let $r_1$ be the midpoint of $[a, b]$ that is,\n",
    "$$r_1=\\frac{a_1+b_1}{2}$$\n",
    "* If $r_1 = 0$, then $r = r_1$, and we are done.\n",
    "* If $f(r_1)\\neq 0$, then $r_1$ has the same sign as either $f(a)$ or $f(b)$.\n",
    "    * If $f(r_1)$ and $f(a_1)$ have the same sign, $r\\in (r_1, b_1)$. Set $a_2 = r_1$ and $b_2 = b_1$.\n",
    "    * If $f(r_1)$ and $f(a_1)$ have opposite signs, $r\\in (a_1, r_1)$. Set $a_2 = a_1$ and $b_2 = r_1$.\n",
    "    \n",
    "Then reapply the process to the interval $[a_2, b_2]$."
   ]
  },
  {
   "cell_type": "markdown",
   "metadata": {},
   "source": [
    "## Exercise 1\n",
    "Program in Python the bisection method."
   ]
  },
  {
   "cell_type": "code",
   "execution_count": 1,
   "metadata": {},
   "outputs": [],
   "source": [
    "def Bisection():\n",
    "    return ...\n",
    "\n",
    "def f(x):\n",
    "    return ...\n",
    "\n",
    "def g(x):\n",
    "    return ..."
   ]
  },
  {
   "cell_type": "markdown",
   "metadata": {},
   "source": [
    "## Exercise 2\n",
    "Test your bisection method with $f(x)=x^2-2$."
   ]
  },
  {
   "cell_type": "markdown",
   "metadata": {},
   "source": [
    "## Exercise 2\n",
    "Find **all** the roots of the followin functions\n",
    "* $f(x)=3x^5 + 5x^4 + \\frac{1}{3}x^3 + 1$\n",
    "* $g(x) = x^2 − \\frac{1}{2}e^{-x}$\n",
    " \n",
    " 1. Look at the plots of the two functions and compute the number of iterations you will need\n",
    " 2. Run the bisection methods"
   ]
  },
  {
   "cell_type": "code",
   "execution_count": 2,
   "metadata": {},
   "outputs": [
    {
     "data": {
      "image/png": "[encoded data removed]",
      "text/plain": [
       "<Figure size 432x288 with 2 Axes>"
      ]
     },
     "metadata": {},
     "output_type": "display_data"
    }
   ],
   "source": [
    "import matplotlib\n",
    "import matplotlib.pyplot as plt\n",
    "import numpy as np\n",
    "\n",
    "N = 100 # NUmber of points in the plot\n",
    "xmin = -3.0 # Minmimum value of x\n",
    "xmax = 3.0 # Maximximum value of x\n",
    "x = np.linspace(xmin,xmax,N) # all N values of x that start at xmin and ends at xmax\n",
    "\n",
    "def f(x):\n",
    "    return 3*x**5 + 5*x*4 + 1/3.0*x**3 + 1.0\n",
    "\n",
    "def g(x):\n",
    "    return x**2 - 1/2.0*np.exp(-x)\n",
    "\n",
    "\n",
    "y1 = f(x) # The values of f at all x values\n",
    "y2 = g(x) # The values of f at all x values\n",
    "\n",
    "plt.figure(1)\n",
    "plt.subplot(211)\n",
    "plt.title(\"Plot of f(x)\")\n",
    "plt.plot(x,y1)\n",
    "plt.grid(True)\n",
    "plt.subplot(212)\n",
    "plt.title(\"Plot of g(x)\")\n",
    "plt.plot(x,y2)\n",
    "plt.grid(True)\n",
    "plt.tight_layout()\n",
    "plt.show()"
   ]
  },
  {
   "cell_type": "markdown",
   "metadata": {},
   "source": [
    "# Applications\n",
    "\n",
    "These algorithms can be apply to minimize a function as well as to find fixed points."
   ]
  },
  {
   "cell_type": "markdown",
   "metadata": {},
   "source": [
    "## Exercise 4\n",
    " Let us say you are trying to produce laptops. The cost to produce each laptops in term of employee is\n",
    "$$C(x) = 2000-200\\sqrt{x}+2x^2.$$\n",
    "How many employee should you have to minimize the cost of your assembly line."
   ]
  },
  {
   "cell_type": "code",
   "execution_count": null,
   "metadata": {},
   "outputs": [],
   "source": []
  },
  {
   "cell_type": "markdown",
   "metadata": {},
   "source": [
    "## Exercise 5\n",
    "Find the values of $\\sqrt{3}$, $\\sqrt[5]{2}$."
   ]
  },
  {
   "cell_type": "code",
   "execution_count": null,
   "metadata": {},
   "outputs": [],
   "source": []
  },
  {
   "cell_type": "markdown",
   "metadata": {},
   "source": [
    "## Exercise 6\n",
    "Find all the values of $x$ such that $\\sin(x)=x^2$."
   ]
  },
  {
   "cell_type": "code",
   "execution_count": null,
   "metadata": {},
   "outputs": [],
   "source": []
  }
 ],
 "metadata": {
  "kernelspec": {
   "display_name": "Python 3",
   "language": "python",
   "name": "python3"
  },
  "language_info": {
   "codemirror_mode": {
    "name": "ipython",
    "version": 3
   },
   "file_extension": ".py",
   "mimetype": "text/x-python",
   "name": "python",
   "nbconvert_exporter": "python",
   "pygments_lexer": "ipython3",
   "version": "3.8.5"
  }
 },
 "nbformat": 4,
 "nbformat_minor": 4
}
