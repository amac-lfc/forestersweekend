{
 "cells": [
  {
   "cell_type": "markdown",
   "metadata": {},
   "source": [
    "# Root finding with Bisection Method"
   ]
  },
  {
   "cell_type": "markdown",
   "metadata": {},
   "source": [
    "## Imports\n",
    "\n",
    "Run the cell below"
   ]
  },
  {
   "cell_type": "code",
   "execution_count": 28,
   "metadata": {},
   "outputs": [],
   "source": [
    "import matplotlib\n",
    "import matplotlib.pyplot as plt\n",
    "import numpy as np"
   ]
  },
  {
   "cell_type": "markdown",
   "metadata": {},
   "source": [
    "## The Bisection algorihm\n",
    "The method calls for a repeated halving (or bisecting) of subintervals of $[a, b]$ and, at each step, locating\n",
    "the half containing $r$, where $r$ is the root of the function.\n",
    "To begin, set $a_1 = a$ and $b_1 =b$ and let $r_1$ be the midpoint of $[a, b]$ that is,\n",
    "$$r_1=\\frac{a_1+b_1}{2}$$\n",
    "* If $r_1 = 0$, then $r = r_1$, and we are done.\n",
    "* If $f(r_1)\\neq 0$, then $r_1$ has the same sign as either $f(a)$ or $f(b)$.\n",
    "    * If $f(r_1)$ and $f(a_1)$ have the same sign, $r\\in (r_1, b_1)$. Set $a_2 = r_1$ and $b_2 = b_1$.\n",
    "    * If $f(r_1)$ and $f(a_1)$ have opposite signs, $r\\in (a_1, r_1)$. Set $a_2 = a_1$ and $b_2 = r_1$.\n",
    "    \n",
    "Then reapply the process to the interval $[a_2, b_2]$."
   ]
  },
  {
   "cell_type": "markdown",
   "metadata": {},
   "source": [
    "## Part 1: Root finding"
   ]
  },
  {
   "cell_type": "markdown",
   "metadata": {},
   "source": [
    "## Exercise 1\n",
    "Program in Python the bisection method."
   ]
  },
  {
   "cell_type": "code",
   "execution_count": 7,
   "metadata": {},
   "outputs": [],
   "source": [
    "def Bisection():\n",
    "    return ..."
   ]
  },
  {
   "cell_type": "markdown",
   "metadata": {},
   "source": [
    "## Exercise 2\n",
    "Test your bisection method with $f(x)=x^2-2$."
   ]
  },
  {
   "cell_type": "code",
   "execution_count": 6,
   "metadata": {},
   "outputs": [],
   "source": [
    "def f(x):\n",
    "    return ..."
   ]
  },
  {
   "cell_type": "markdown",
   "metadata": {},
   "source": [
    "## Exercise 3\n",
    "Find **all** the roots of the following functions\n",
    "$$f(x)=3x^5 + 5x^4 + \\frac{1}{3}x^3 + 50$$\n",
    " \n",
    " 1. Look at the plots of the two functions and see how many root\n",
    " 2. Run the bisection methods"
   ]
  },
  {
   "cell_type": "code",
   "execution_count": 26,
   "metadata": {},
   "outputs": [
    {
     "data": {
      "image/png": "[encoded data removed]",
      "text/plain": [
       "<Figure size 432x288 with 1 Axes>"
      ]
     },
     "metadata": {
      "needs_background": "light"
     },
     "output_type": "display_data"
    }
   ],
   "source": [
    "N = 100 # NUmber of points in the plot\n",
    "xmin = -2.0 # Minmimum value of x\n",
    "xmax = 2.0 # Maximximum value of x\n",
    "x = np.linspace(xmin,xmax,N) # all N values of x that start at xmin and ends at xmax\n",
    "\n",
    "def f(x):\n",
    "    return 4*x**5 + 5*x*4 + 1/3.0*x**3 + 50.0\n",
    "\n",
    "y = f(x) # The values of f at all x values\n",
    "\n",
    "plt.figure(1)\n",
    "plt.plot(x,y)\n",
    "plt.grid(True)\n",
    "plt.tight_layout()\n",
    "plt.show()"
   ]
  },
  {
   "cell_type": "markdown",
   "metadata": {},
   "source": [
    "## Exercise 4\n",
    "Find **all** the roots of the following functions\n",
    "$$g(x) = x^2 − \\frac{1}{3}e^{-x}$$\n",
    " \n",
    " 1. Look at the plots of the two functions and see how many root\n",
    " 2. Run the bisection methods"
   ]
  },
  {
   "cell_type": "code",
   "execution_count": 27,
   "metadata": {},
   "outputs": [
    {
     "data": {
      "image/png": "[encoded data removed]",
      "text/plain": [
       "<Figure size 432x288 with 1 Axes>"
      ]
     },
     "metadata": {
      "needs_background": "light"
     },
     "output_type": "display_data"
    }
   ],
   "source": [
    "N = 100 # NUmber of points in the plot\n",
    "xmin = -4.0 # Minmimum value of x\n",
    "xmax = 3.0 # Maximximum value of x\n",
    "x = np.linspace(xmin,xmax,N) # all N values of x that start at xmin and ends at xmax\n",
    "\n",
    "def g(x):\n",
    "    return x**2 - 1/3.0*np.exp(-x)\n",
    "\n",
    "\n",
    "y = g(x) # The values of f at all x values\n",
    "\n",
    "plt.figure(1)\n",
    "plt.plot(x,y)\n",
    "plt.grid(True)\n",
    "plt.tight_layout()\n",
    "plt.show()"
   ]
  },
  {
   "cell_type": "markdown",
   "metadata": {},
   "source": [
    "## Exercise 5 (BONUS)\n",
    "**Error formula**\n",
    "The error of a numerical method is the difference between the root obtained from the algorithm and the real value of the root. Let us say that $r$ is the real root and $\\bar r$ is the value of the root obtain from the algorithm, then the error formula for the bisection method is\n",
    "$$|r-\\bar r| \\leq \\frac{1}{2^n}(b-a)$$\n",
    "\n",
    "For example if we want an error of $10^{-6}$, which means that $|r-\\bar r|\\leq 10^{-6}$, we need\n",
    "$$\\frac{1}{2^n}(b-a) \\leq 10^{-6} $$\n",
    "\n",
    "\n",
    "Using the error formula determine how many itrations you need in order to be witthin $10^{-6}$ for the roots in Exercise 5"
   ]
  },
  {
   "cell_type": "markdown",
   "metadata": {},
   "source": [
    "Write your answer here:\n",
    "\n",
    "and test your answer below:\n"
   ]
  },
  {
   "cell_type": "code",
   "execution_count": null,
   "metadata": {},
   "outputs": [],
   "source": []
  },
  {
   "cell_type": "markdown",
   "metadata": {},
   "source": [
    "## Part 2: Applications\n",
    "\n",
    "These algorithms can be apply to minimize a function as well as to find fixed points. You do not have to do the exercises below in order, pick the ones you prefer."
   ]
  },
  {
   "cell_type": "markdown",
   "metadata": {},
   "source": [
    "### Exercise 6\n",
    "Find the minimum of the following function\n",
    "$$C(x) = 2000-200\\sqrt{x}+2x^2.$$"
   ]
  },
  {
   "cell_type": "code",
   "execution_count": null,
   "metadata": {},
   "outputs": [],
   "source": []
  },
  {
   "cell_type": "markdown",
   "metadata": {},
   "source": [
    "### Exercise 7\n",
    "How do caculators find the values of the square root or the 5th root? They solve the roots of polynomials.\n",
    "\n",
    "Find the values of $\\sqrt{3}$, $\\sqrt[5]{2}$. (think of it "
   ]
  },
  {
   "cell_type": "code",
   "execution_count": null,
   "metadata": {},
   "outputs": [],
   "source": []
  },
  {
   "cell_type": "markdown",
   "metadata": {},
   "source": [
    "### Exercise 8\n",
    "Find all the values of $x$ such that $\\sin(x)=x^2$. (in python sin(x) is `np.sin(x)`)"
   ]
  },
  {
   "cell_type": "code",
   "execution_count": null,
   "metadata": {},
   "outputs": [],
   "source": []
  }
 ],
 "metadata": {
  "kernelspec": {
   "display_name": "Python 3",
   "language": "python",
   "name": "python3"
  },
  "language_info": {
   "codemirror_mode": {
    "name": "ipython",
    "version": 3
   },
   "file_extension": ".py",
   "mimetype": "text/x-python",
   "name": "python",
   "nbconvert_exporter": "python",
   "pygments_lexer": "ipython3",
   "version": "3.8.5"
  }
 },
 "nbformat": 4,
 "nbformat_minor": 4
}
